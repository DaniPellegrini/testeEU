{
  "nbformat": 4,
  "nbformat_minor": 0,
  "metadata": {
    "colab": {
      "provenance": []
    },
    "kernelspec": {
      "name": "python3",
      "display_name": "Python 3"
    },
    "language_info": {
      "name": "python"
    }
  },
  "cells": [
    {
      "cell_type": "markdown",
      "source": [
        "# Tarefa 3\n",
        "\n",
        "Renato Naville Watanabe"
      ],
      "metadata": {
        "id": "EPpSukFJZPjc"
      }
    },
    {
      "cell_type": "code",
      "execution_count": 1,
      "metadata": {
        "colab": {
          "base_uri": "https://localhost:8080/"
        },
        "id": "qfE7v9ruZOyG",
        "outputId": "006805f6-3d91-4cd6-ac83-d9b2dc22e550"
      },
      "outputs": [
        {
          "output_type": "stream",
          "name": "stdout",
          "text": [
            "Massa em kg: 13.6\n"
          ]
        }
      ],
      "source": [
        "m_libras = 30\n",
        "m_kg = m_libras/2.205\n",
        "print(f'Massa em kg: {m_kg:.1f}')"
      ]
    },
    {
      "cell_type": "code",
      "source": [
        "m_libras = 10\n",
        "m_kg = m_libras/2.205\n",
        "print(f'Massa em kg: {m_kg:.1f}')"
      ],
      "metadata": {
        "colab": {
          "base_uri": "https://localhost:8080/"
        },
        "id": "hfByvHz8Zglp",
        "outputId": "c4825ef7-a8b8-4b4e-fb44-4e2f14c8c923"
      },
      "execution_count": 2,
      "outputs": [
        {
          "output_type": "stream",
          "name": "stdout",
          "text": [
            "Massa em kg: 4.5\n"
          ]
        }
      ]
    },
    {
      "cell_type": "code",
      "source": [
        "m_libras = 100\n",
        "m_kg = m_libras/2.205\n",
        "print(f'Massa em kg: {m_kg:.1f}')"
      ],
      "metadata": {
        "colab": {
          "base_uri": "https://localhost:8080/"
        },
        "id": "bnV1QUixZpLu",
        "outputId": "077bdec3-5bc4-4822-f79d-ea88532bee3d"
      },
      "execution_count": 3,
      "outputs": [
        {
          "output_type": "stream",
          "name": "stdout",
          "text": [
            "Massa em kg: 45.4\n"
          ]
        }
      ]
    },
    {
      "cell_type": "code",
      "source": [],
      "metadata": {
        "id": "B1LPVFrHZqhm"
      },
      "execution_count": null,
      "outputs": []
    }
  ]
}
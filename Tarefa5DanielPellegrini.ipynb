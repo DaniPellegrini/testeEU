{
  "nbformat": 4,
  "nbformat_minor": 0,
  "metadata": {
    "colab": {
      "provenance": [],
      "authorship_tag": "ABX9TyM40Rh/Z8viKyNkQlXulpC2",
      "include_colab_link": true
    },
    "kernelspec": {
      "name": "python3",
      "display_name": "Python 3"
    },
    "language_info": {
      "name": "python"
    }
  },
  "cells": [
    {
      "cell_type": "markdown",
      "metadata": {
        "id": "view-in-github",
        "colab_type": "text"
      },
      "source": [
        "<a href=\"https://colab.research.google.com/github/DaniPellegrini/testeEU/blob/main/Tarefa5DanielPellegrini.ipynb\" target=\"_parent\"><img src=\"https://colab.research.google.com/assets/colab-badge.svg\" alt=\"Open In Colab\"/></a>"
      ]
    },
    {
      "cell_type": "markdown",
      "source": [
        "Notebook de Daniel Pellegrini"
      ],
      "metadata": {
        "id": "leG6qS9kW0SH"
      }
    },
    {
      "cell_type": "markdown",
      "source": [
        "O notebook a seguir serve para plotar o gráfico de um lançamento de uma bola no ar demonstrando sua altura em função do tempo, assim como a altuma máxima alcançada nesse período."
      ],
      "metadata": {
        "id": "4HfYvSu4XweW"
      }
    },
    {
      "cell_type": "code",
      "source": [
        "import numpy as np\n",
        "import matplotlib.pyplot as plt\n",
        "\n",
        "a = np.linspace(0, 5)\n",
        "y = -x**2 + 4*x\n",
        "\n",
        "altmax = np.max(y)\n",
        "plt.figure()\n",
        "plt.plot(x, y, color='blue', marker='d', linestyle = '-')\n",
        "plt.grid()\n",
        "\n",
        "plt.title('Lançamento Vertical')\n",
        "plt.xlabel('$\\Delta$ Tempo')\n",
        "plt.ylabel('Altura')\n",
        "plt.show()\n",
        "\n",
        "print(f'A altura máxima atingida é {altmax}')"
      ],
      "metadata": {
        "colab": {
          "base_uri": "https://localhost:8080/",
          "height": 316
        },
        "id": "87hOJHt9W24O",
        "outputId": "17336b68-07a0-4329-bd9a-7a48378f89e4"
      },
      "execution_count": null,
      "outputs": [
        {
          "output_type": "display_data",
          "data": {
            "text/plain": [
              "<Figure size 432x288 with 1 Axes>"
            ],
            "image/png": "[encoded data removed]"
          },
          "metadata": {
            "needs_background": "light"
          }
        },
        {
          "output_type": "stream",
          "name": "stdout",
          "text": [
            "A altura máxima atingida é 3.9983340274885464\n"
          ]
        }
      ]
    }
  ]
}